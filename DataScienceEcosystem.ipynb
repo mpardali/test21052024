{
 "cells": [
  {
   "cell_type": "markdown",
   "id": "5011a350",
   "metadata": {},
   "source": [
    "# Data Science Tools and Ecosystem"
   ]
  },
  {
   "cell_type": "markdown",
   "id": "0b70eb23",
   "metadata": {},
   "source": [
    "In this notebook, Data Science Tools and Ecosystem are summarized."
   ]
  },
  {
   "cell_type": "markdown",
   "id": "bfa19d2f",
   "metadata": {},
   "source": [
    "Some of the popular languages that Data Scientists use are:\n",
    "    \n",
    "\n",
    "1. Python\n",
    "2. R\n",
    "3. Julia\n",
    "4. Scala\n"
   ]
  },
  {
   "cell_type": "markdown",
   "id": "1eb81675",
   "metadata": {},
   "source": [
    "Some of the commonly used libraries used by Data Scientists include:\n",
    "    \n",
    "1. NumPy: For numerical computing with arrays.\n",
    "2. Pandas: For data manipulation and analysis.\n",
    "3. Matplotlib: For creating static, interactive, and animated visualizations.\n",
    "4. Seaborn: For statistical data visualization.\n",
    "5. Scikit-learn: For machine learning algorithms and tools.\n",
    "6. TensorFlow and PyTorch: For deep learning frameworks.\n",
    "7. SciPy: For scientific computing and technical computing.\n",
    "8. Statsmodels: For statistical modeling and testing.. "
   ]
  },
  {
   "cell_type": "markdown",
   "id": "91e9e452",
   "metadata": {},
   "source": [
    "# Data Science Tools\n",
    "\n",
    "1. Jupyter Notebooks\n",
    "2. IBM Watson\n",
    "3. RStudio"
   ]
  },
  {
   "cell_type": "markdown",
   "id": "85295140",
   "metadata": {},
   "source": [
    "### Below are a few examples of evaluating arithmetic expressions in Python."
   ]
  },
  {
   "cell_type": "code",
   "execution_count": 1,
   "id": "d8eeb05f",
   "metadata": {},
   "outputs": [
    {
     "name": "stdout",
     "output_type": "stream",
     "text": [
      "This a simple arithmetic expression to mutiply then add integers\n"
     ]
    },
    {
     "data": {
      "text/plain": [
       "17"
      ]
     },
     "execution_count": 1,
     "metadata": {},
     "output_type": "execute_result"
    }
   ],
   "source": [
    "print(\"This a simple arithmetic expression to mutiply then add integers\")\n",
    "\n",
    "(3*4)+5"
   ]
  },
  {
   "cell_type": "code",
   "execution_count": 2,
   "id": "fc8ef47d",
   "metadata": {},
   "outputs": [
    {
     "data": {
      "text/plain": [
       "3.3333333333333335"
      ]
     },
     "execution_count": 2,
     "metadata": {},
     "output_type": "execute_result"
    }
   ],
   "source": [
    " #This will convert 200 minutes to hours by diving by 60\n",
    "    \n",
    "200/60"
   ]
  },
  {
   "cell_type": "markdown",
   "id": "b03d1074",
   "metadata": {},
   "source": [
    "List popular languages for Data Science\n",
    "\n",
    "**Objectives:**\n",
    "\n",
    "- List popular languages for Data Science.\n",
    "- Describe common tools used in Data Science.\n",
    "- Explain the importance of data manipulation and analysis libraries."
   ]
  },
  {
   "cell_type": "markdown",
   "id": "89c56365",
   "metadata": {},
   "source": [
    "## Author\n",
    "\n",
    "\n",
    "Pardali Maria"
   ]
  },
  {
   "cell_type": "code",
   "execution_count": null,
   "id": "a23ca9ae",
   "metadata": {},
   "outputs": [],
   "source": []
  },
  {
   "cell_type": "code",
   "execution_count": null,
   "id": "cf758e3f",
   "metadata": {},
   "outputs": [],
   "source": []
  }
 ],
 "metadata": {
  "kernelspec": {
   "display_name": "Python 3 (ipykernel)",
   "language": "python",
   "name": "python3"
  },
  "language_info": {
   "codemirror_mode": {
    "name": "ipython",
    "version": 3
   },
   "file_extension": ".py",
   "mimetype": "text/x-python",
   "name": "python",
   "nbconvert_exporter": "python",
   "pygments_lexer": "ipython3",
   "version": "3.9.7"
  }
 },
 "nbformat": 4,
 "nbformat_minor": 5
}
